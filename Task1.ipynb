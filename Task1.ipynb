{
 "cells": [
  {
   "cell_type": "markdown",
   "metadata": {},
   "source": [
    "# TASK 1"
   ]
  },
  {
   "cell_type": "markdown",
   "metadata": {},
   "source": [
    "### Prediction Using Supervised Machine Learning (ML)"
   ]
  },
  {
   "cell_type": "code",
   "execution_count": 7,
   "metadata": {},
   "outputs": [],
   "source": [
    "### Importing Libraries\n",
    "import pandas as pd\n",
    "import numpy as np  \n",
    "import matplotlib.pyplot as plt "
   ]
  },
  {
   "cell_type": "code",
   "execution_count": 8,
   "metadata": {},
   "outputs": [
    {
     "data": {
      "text/html": [
       "<style  type=\"text/css\" >\n",
       "    #T_5da824ba_20f4_11eb_82d8_80e82c8e7943row0_col0 {\n",
       "            background-color:  #7295f4;\n",
       "            color:  #000000;\n",
       "        }    #T_5da824ba_20f4_11eb_82d8_80e82c8e7943row0_col1 {\n",
       "            background-color:  #4a63d3;\n",
       "            color:  #f1f1f1;\n",
       "        }    #T_5da824ba_20f4_11eb_82d8_80e82c8e7943row1_col0 {\n",
       "            background-color:  #dbdcde;\n",
       "            color:  #000000;\n",
       "        }    #T_5da824ba_20f4_11eb_82d8_80e82c8e7943row1_col1 {\n",
       "            background-color:  #bbd1f8;\n",
       "            color:  #000000;\n",
       "        }    #T_5da824ba_20f4_11eb_82d8_80e82c8e7943row2_col0 {\n",
       "            background-color:  #90b2fe;\n",
       "            color:  #000000;\n",
       "        }    #T_5da824ba_20f4_11eb_82d8_80e82c8e7943row2_col1 {\n",
       "            background-color:  #6282ea;\n",
       "            color:  #000000;\n",
       "        }    #T_5da824ba_20f4_11eb_82d8_80e82c8e7943row3_col0 {\n",
       "            background-color:  #d24b40;\n",
       "            color:  #f1f1f1;\n",
       "        }    #T_5da824ba_20f4_11eb_82d8_80e82c8e7943row3_col1 {\n",
       "            background-color:  #f59c7d;\n",
       "            color:  #000000;\n",
       "        }    #T_5da824ba_20f4_11eb_82d8_80e82c8e7943row4_col0 {\n",
       "            background-color:  #9dbdff;\n",
       "            color:  #000000;\n",
       "        }    #T_5da824ba_20f4_11eb_82d8_80e82c8e7943row4_col1 {\n",
       "            background-color:  #6f92f3;\n",
       "            color:  #000000;\n",
       "        }    #T_5da824ba_20f4_11eb_82d8_80e82c8e7943row5_col0 {\n",
       "            background-color:  #4961d2;\n",
       "            color:  #f1f1f1;\n",
       "        }    #T_5da824ba_20f4_11eb_82d8_80e82c8e7943row5_col1 {\n",
       "            background-color:  #455cce;\n",
       "            color:  #f1f1f1;\n",
       "        }    #T_5da824ba_20f4_11eb_82d8_80e82c8e7943row6_col0 {\n",
       "            background-color:  #b40426;\n",
       "            color:  #f1f1f1;\n",
       "        }    #T_5da824ba_20f4_11eb_82d8_80e82c8e7943row6_col1 {\n",
       "            background-color:  #d24b40;\n",
       "            color:  #f1f1f1;\n",
       "        }    #T_5da824ba_20f4_11eb_82d8_80e82c8e7943row7_col0 {\n",
       "            background-color:  #e8d6cc;\n",
       "            color:  #000000;\n",
       "        }    #T_5da824ba_20f4_11eb_82d8_80e82c8e7943row7_col1 {\n",
       "            background-color:  #ead5c9;\n",
       "            color:  #000000;\n",
       "        }    #T_5da824ba_20f4_11eb_82d8_80e82c8e7943row8_col0 {\n",
       "            background-color:  #d95847;\n",
       "            color:  #000000;\n",
       "        }    #T_5da824ba_20f4_11eb_82d8_80e82c8e7943row8_col1 {\n",
       "            background-color:  #e97a5f;\n",
       "            color:  #000000;\n",
       "        }    #T_5da824ba_20f4_11eb_82d8_80e82c8e7943row9_col0 {\n",
       "            background-color:  #7a9df8;\n",
       "            color:  #000000;\n",
       "        }    #T_5da824ba_20f4_11eb_82d8_80e82c8e7943row9_col1 {\n",
       "            background-color:  #5a78e4;\n",
       "            color:  #000000;\n",
       "        }    #T_5da824ba_20f4_11eb_82d8_80e82c8e7943row10_col0 {\n",
       "            background-color:  #eb7d62;\n",
       "            color:  #000000;\n",
       "        }    #T_5da824ba_20f4_11eb_82d8_80e82c8e7943row10_col1 {\n",
       "            background-color:  #de614d;\n",
       "            color:  #000000;\n",
       "        }    #T_5da824ba_20f4_11eb_82d8_80e82c8e7943row11_col0 {\n",
       "            background-color:  #f1cdba;\n",
       "            color:  #000000;\n",
       "        }    #T_5da824ba_20f4_11eb_82d8_80e82c8e7943row11_col1 {\n",
       "            background-color:  #eed0c0;\n",
       "            color:  #000000;\n",
       "        }    #T_5da824ba_20f4_11eb_82d8_80e82c8e7943row12_col0 {\n",
       "            background-color:  #c6d6f1;\n",
       "            color:  #000000;\n",
       "        }    #T_5da824ba_20f4_11eb_82d8_80e82c8e7943row12_col1 {\n",
       "            background-color:  #a1c0ff;\n",
       "            color:  #000000;\n",
       "        }    #T_5da824ba_20f4_11eb_82d8_80e82c8e7943row13_col0 {\n",
       "            background-color:  #94b6ff;\n",
       "            color:  #000000;\n",
       "        }    #T_5da824ba_20f4_11eb_82d8_80e82c8e7943row13_col1 {\n",
       "            background-color:  #a6c4fe;\n",
       "            color:  #000000;\n",
       "        }    #T_5da824ba_20f4_11eb_82d8_80e82c8e7943row14_col0 {\n",
       "            background-color:  #3b4cc0;\n",
       "            color:  #f1f1f1;\n",
       "        }    #T_5da824ba_20f4_11eb_82d8_80e82c8e7943row14_col1 {\n",
       "            background-color:  #3b4cc0;\n",
       "            color:  #f1f1f1;\n",
       "        }    #T_5da824ba_20f4_11eb_82d8_80e82c8e7943row15_col0 {\n",
       "            background-color:  #c12b30;\n",
       "            color:  #f1f1f1;\n",
       "        }    #T_5da824ba_20f4_11eb_82d8_80e82c8e7943row15_col1 {\n",
       "            background-color:  #b40426;\n",
       "            color:  #f1f1f1;\n",
       "        }    #T_5da824ba_20f4_11eb_82d8_80e82c8e7943row16_col0 {\n",
       "            background-color:  #7295f4;\n",
       "            color:  #000000;\n",
       "        }    #T_5da824ba_20f4_11eb_82d8_80e82c8e7943row16_col1 {\n",
       "            background-color:  #6f92f3;\n",
       "            color:  #000000;\n",
       "        }    #T_5da824ba_20f4_11eb_82d8_80e82c8e7943row17_col0 {\n",
       "            background-color:  #5977e3;\n",
       "            color:  #000000;\n",
       "        }    #T_5da824ba_20f4_11eb_82d8_80e82c8e7943row17_col1 {\n",
       "            background-color:  #5572df;\n",
       "            color:  #000000;\n",
       "        }    #T_5da824ba_20f4_11eb_82d8_80e82c8e7943row18_col0 {\n",
       "            background-color:  #f4c6af;\n",
       "            color:  #000000;\n",
       "        }    #T_5da824ba_20f4_11eb_82d8_80e82c8e7943row18_col1 {\n",
       "            background-color:  #f6bfa6;\n",
       "            color:  #000000;\n",
       "        }    #T_5da824ba_20f4_11eb_82d8_80e82c8e7943row19_col0 {\n",
       "            background-color:  #f18d6f;\n",
       "            color:  #000000;\n",
       "        }    #T_5da824ba_20f4_11eb_82d8_80e82c8e7943row19_col1 {\n",
       "            background-color:  #f7b89c;\n",
       "            color:  #000000;\n",
       "        }    #T_5da824ba_20f4_11eb_82d8_80e82c8e7943row20_col0 {\n",
       "            background-color:  #7a9df8;\n",
       "            color:  #000000;\n",
       "        }    #T_5da824ba_20f4_11eb_82d8_80e82c8e7943row20_col1 {\n",
       "            background-color:  #6f92f3;\n",
       "            color:  #000000;\n",
       "        }    #T_5da824ba_20f4_11eb_82d8_80e82c8e7943row21_col0 {\n",
       "            background-color:  #d1dae9;\n",
       "            color:  #000000;\n",
       "        }    #T_5da824ba_20f4_11eb_82d8_80e82c8e7943row21_col1 {\n",
       "            background-color:  #d6dce4;\n",
       "            color:  #000000;\n",
       "        }    #T_5da824ba_20f4_11eb_82d8_80e82c8e7943row22_col0 {\n",
       "            background-color:  #aac7fd;\n",
       "            color:  #000000;\n",
       "        }    #T_5da824ba_20f4_11eb_82d8_80e82c8e7943row22_col1 {\n",
       "            background-color:  #86a9fc;\n",
       "            color:  #000000;\n",
       "        }    #T_5da824ba_20f4_11eb_82d8_80e82c8e7943row23_col0 {\n",
       "            background-color:  #f7a688;\n",
       "            color:  #000000;\n",
       "        }    #T_5da824ba_20f4_11eb_82d8_80e82c8e7943row23_col1 {\n",
       "            background-color:  #f39778;\n",
       "            color:  #000000;\n",
       "        }    #T_5da824ba_20f4_11eb_82d8_80e82c8e7943row24_col0 {\n",
       "            background-color:  #e9785d;\n",
       "            color:  #000000;\n",
       "        }    #T_5da824ba_20f4_11eb_82d8_80e82c8e7943row24_col1 {\n",
       "            background-color:  #da5a49;\n",
       "            color:  #000000;\n",
       "        }</style><table id=\"T_5da824ba_20f4_11eb_82d8_80e82c8e7943\" ><thead>    <tr>        <th class=\"blank level0\" ></th>        <th class=\"col_heading level0 col0\" >Hours</th>        <th class=\"col_heading level0 col1\" >Scores</th>    </tr></thead><tbody>\n",
       "                <tr>\n",
       "                        <th id=\"T_5da824ba_20f4_11eb_82d8_80e82c8e7943level0_row0\" class=\"row_heading level0 row0\" >0</th>\n",
       "                        <td id=\"T_5da824ba_20f4_11eb_82d8_80e82c8e7943row0_col0\" class=\"data row0 col0\" >2.5</td>\n",
       "                        <td id=\"T_5da824ba_20f4_11eb_82d8_80e82c8e7943row0_col1\" class=\"data row0 col1\" >21</td>\n",
       "            </tr>\n",
       "            <tr>\n",
       "                        <th id=\"T_5da824ba_20f4_11eb_82d8_80e82c8e7943level0_row1\" class=\"row_heading level0 row1\" >1</th>\n",
       "                        <td id=\"T_5da824ba_20f4_11eb_82d8_80e82c8e7943row1_col0\" class=\"data row1 col0\" >5.1</td>\n",
       "                        <td id=\"T_5da824ba_20f4_11eb_82d8_80e82c8e7943row1_col1\" class=\"data row1 col1\" >47</td>\n",
       "            </tr>\n",
       "            <tr>\n",
       "                        <th id=\"T_5da824ba_20f4_11eb_82d8_80e82c8e7943level0_row2\" class=\"row_heading level0 row2\" >2</th>\n",
       "                        <td id=\"T_5da824ba_20f4_11eb_82d8_80e82c8e7943row2_col0\" class=\"data row2 col0\" >3.2</td>\n",
       "                        <td id=\"T_5da824ba_20f4_11eb_82d8_80e82c8e7943row2_col1\" class=\"data row2 col1\" >27</td>\n",
       "            </tr>\n",
       "            <tr>\n",
       "                        <th id=\"T_5da824ba_20f4_11eb_82d8_80e82c8e7943level0_row3\" class=\"row_heading level0 row3\" >3</th>\n",
       "                        <td id=\"T_5da824ba_20f4_11eb_82d8_80e82c8e7943row3_col0\" class=\"data row3 col0\" >8.5</td>\n",
       "                        <td id=\"T_5da824ba_20f4_11eb_82d8_80e82c8e7943row3_col1\" class=\"data row3 col1\" >75</td>\n",
       "            </tr>\n",
       "            <tr>\n",
       "                        <th id=\"T_5da824ba_20f4_11eb_82d8_80e82c8e7943level0_row4\" class=\"row_heading level0 row4\" >4</th>\n",
       "                        <td id=\"T_5da824ba_20f4_11eb_82d8_80e82c8e7943row4_col0\" class=\"data row4 col0\" >3.5</td>\n",
       "                        <td id=\"T_5da824ba_20f4_11eb_82d8_80e82c8e7943row4_col1\" class=\"data row4 col1\" >30</td>\n",
       "            </tr>\n",
       "            <tr>\n",
       "                        <th id=\"T_5da824ba_20f4_11eb_82d8_80e82c8e7943level0_row5\" class=\"row_heading level0 row5\" >5</th>\n",
       "                        <td id=\"T_5da824ba_20f4_11eb_82d8_80e82c8e7943row5_col0\" class=\"data row5 col0\" >1.5</td>\n",
       "                        <td id=\"T_5da824ba_20f4_11eb_82d8_80e82c8e7943row5_col1\" class=\"data row5 col1\" >20</td>\n",
       "            </tr>\n",
       "            <tr>\n",
       "                        <th id=\"T_5da824ba_20f4_11eb_82d8_80e82c8e7943level0_row6\" class=\"row_heading level0 row6\" >6</th>\n",
       "                        <td id=\"T_5da824ba_20f4_11eb_82d8_80e82c8e7943row6_col0\" class=\"data row6 col0\" >9.2</td>\n",
       "                        <td id=\"T_5da824ba_20f4_11eb_82d8_80e82c8e7943row6_col1\" class=\"data row6 col1\" >88</td>\n",
       "            </tr>\n",
       "            <tr>\n",
       "                        <th id=\"T_5da824ba_20f4_11eb_82d8_80e82c8e7943level0_row7\" class=\"row_heading level0 row7\" >7</th>\n",
       "                        <td id=\"T_5da824ba_20f4_11eb_82d8_80e82c8e7943row7_col0\" class=\"data row7 col0\" >5.5</td>\n",
       "                        <td id=\"T_5da824ba_20f4_11eb_82d8_80e82c8e7943row7_col1\" class=\"data row7 col1\" >60</td>\n",
       "            </tr>\n",
       "            <tr>\n",
       "                        <th id=\"T_5da824ba_20f4_11eb_82d8_80e82c8e7943level0_row8\" class=\"row_heading level0 row8\" >8</th>\n",
       "                        <td id=\"T_5da824ba_20f4_11eb_82d8_80e82c8e7943row8_col0\" class=\"data row8 col0\" >8.3</td>\n",
       "                        <td id=\"T_5da824ba_20f4_11eb_82d8_80e82c8e7943row8_col1\" class=\"data row8 col1\" >81</td>\n",
       "            </tr>\n",
       "            <tr>\n",
       "                        <th id=\"T_5da824ba_20f4_11eb_82d8_80e82c8e7943level0_row9\" class=\"row_heading level0 row9\" >9</th>\n",
       "                        <td id=\"T_5da824ba_20f4_11eb_82d8_80e82c8e7943row9_col0\" class=\"data row9 col0\" >2.7</td>\n",
       "                        <td id=\"T_5da824ba_20f4_11eb_82d8_80e82c8e7943row9_col1\" class=\"data row9 col1\" >25</td>\n",
       "            </tr>\n",
       "            <tr>\n",
       "                        <th id=\"T_5da824ba_20f4_11eb_82d8_80e82c8e7943level0_row10\" class=\"row_heading level0 row10\" >10</th>\n",
       "                        <td id=\"T_5da824ba_20f4_11eb_82d8_80e82c8e7943row10_col0\" class=\"data row10 col0\" >7.7</td>\n",
       "                        <td id=\"T_5da824ba_20f4_11eb_82d8_80e82c8e7943row10_col1\" class=\"data row10 col1\" >85</td>\n",
       "            </tr>\n",
       "            <tr>\n",
       "                        <th id=\"T_5da824ba_20f4_11eb_82d8_80e82c8e7943level0_row11\" class=\"row_heading level0 row11\" >11</th>\n",
       "                        <td id=\"T_5da824ba_20f4_11eb_82d8_80e82c8e7943row11_col0\" class=\"data row11 col0\" >5.9</td>\n",
       "                        <td id=\"T_5da824ba_20f4_11eb_82d8_80e82c8e7943row11_col1\" class=\"data row11 col1\" >62</td>\n",
       "            </tr>\n",
       "            <tr>\n",
       "                        <th id=\"T_5da824ba_20f4_11eb_82d8_80e82c8e7943level0_row12\" class=\"row_heading level0 row12\" >12</th>\n",
       "                        <td id=\"T_5da824ba_20f4_11eb_82d8_80e82c8e7943row12_col0\" class=\"data row12 col0\" >4.5</td>\n",
       "                        <td id=\"T_5da824ba_20f4_11eb_82d8_80e82c8e7943row12_col1\" class=\"data row12 col1\" >41</td>\n",
       "            </tr>\n",
       "            <tr>\n",
       "                        <th id=\"T_5da824ba_20f4_11eb_82d8_80e82c8e7943level0_row13\" class=\"row_heading level0 row13\" >13</th>\n",
       "                        <td id=\"T_5da824ba_20f4_11eb_82d8_80e82c8e7943row13_col0\" class=\"data row13 col0\" >3.3</td>\n",
       "                        <td id=\"T_5da824ba_20f4_11eb_82d8_80e82c8e7943row13_col1\" class=\"data row13 col1\" >42</td>\n",
       "            </tr>\n",
       "            <tr>\n",
       "                        <th id=\"T_5da824ba_20f4_11eb_82d8_80e82c8e7943level0_row14\" class=\"row_heading level0 row14\" >14</th>\n",
       "                        <td id=\"T_5da824ba_20f4_11eb_82d8_80e82c8e7943row14_col0\" class=\"data row14 col0\" >1.1</td>\n",
       "                        <td id=\"T_5da824ba_20f4_11eb_82d8_80e82c8e7943row14_col1\" class=\"data row14 col1\" >17</td>\n",
       "            </tr>\n",
       "            <tr>\n",
       "                        <th id=\"T_5da824ba_20f4_11eb_82d8_80e82c8e7943level0_row15\" class=\"row_heading level0 row15\" >15</th>\n",
       "                        <td id=\"T_5da824ba_20f4_11eb_82d8_80e82c8e7943row15_col0\" class=\"data row15 col0\" >8.9</td>\n",
       "                        <td id=\"T_5da824ba_20f4_11eb_82d8_80e82c8e7943row15_col1\" class=\"data row15 col1\" >95</td>\n",
       "            </tr>\n",
       "            <tr>\n",
       "                        <th id=\"T_5da824ba_20f4_11eb_82d8_80e82c8e7943level0_row16\" class=\"row_heading level0 row16\" >16</th>\n",
       "                        <td id=\"T_5da824ba_20f4_11eb_82d8_80e82c8e7943row16_col0\" class=\"data row16 col0\" >2.5</td>\n",
       "                        <td id=\"T_5da824ba_20f4_11eb_82d8_80e82c8e7943row16_col1\" class=\"data row16 col1\" >30</td>\n",
       "            </tr>\n",
       "            <tr>\n",
       "                        <th id=\"T_5da824ba_20f4_11eb_82d8_80e82c8e7943level0_row17\" class=\"row_heading level0 row17\" >17</th>\n",
       "                        <td id=\"T_5da824ba_20f4_11eb_82d8_80e82c8e7943row17_col0\" class=\"data row17 col0\" >1.9</td>\n",
       "                        <td id=\"T_5da824ba_20f4_11eb_82d8_80e82c8e7943row17_col1\" class=\"data row17 col1\" >24</td>\n",
       "            </tr>\n",
       "            <tr>\n",
       "                        <th id=\"T_5da824ba_20f4_11eb_82d8_80e82c8e7943level0_row18\" class=\"row_heading level0 row18\" >18</th>\n",
       "                        <td id=\"T_5da824ba_20f4_11eb_82d8_80e82c8e7943row18_col0\" class=\"data row18 col0\" >6.1</td>\n",
       "                        <td id=\"T_5da824ba_20f4_11eb_82d8_80e82c8e7943row18_col1\" class=\"data row18 col1\" >67</td>\n",
       "            </tr>\n",
       "            <tr>\n",
       "                        <th id=\"T_5da824ba_20f4_11eb_82d8_80e82c8e7943level0_row19\" class=\"row_heading level0 row19\" >19</th>\n",
       "                        <td id=\"T_5da824ba_20f4_11eb_82d8_80e82c8e7943row19_col0\" class=\"data row19 col0\" >7.4</td>\n",
       "                        <td id=\"T_5da824ba_20f4_11eb_82d8_80e82c8e7943row19_col1\" class=\"data row19 col1\" >69</td>\n",
       "            </tr>\n",
       "            <tr>\n",
       "                        <th id=\"T_5da824ba_20f4_11eb_82d8_80e82c8e7943level0_row20\" class=\"row_heading level0 row20\" >20</th>\n",
       "                        <td id=\"T_5da824ba_20f4_11eb_82d8_80e82c8e7943row20_col0\" class=\"data row20 col0\" >2.7</td>\n",
       "                        <td id=\"T_5da824ba_20f4_11eb_82d8_80e82c8e7943row20_col1\" class=\"data row20 col1\" >30</td>\n",
       "            </tr>\n",
       "            <tr>\n",
       "                        <th id=\"T_5da824ba_20f4_11eb_82d8_80e82c8e7943level0_row21\" class=\"row_heading level0 row21\" >21</th>\n",
       "                        <td id=\"T_5da824ba_20f4_11eb_82d8_80e82c8e7943row21_col0\" class=\"data row21 col0\" >4.8</td>\n",
       "                        <td id=\"T_5da824ba_20f4_11eb_82d8_80e82c8e7943row21_col1\" class=\"data row21 col1\" >54</td>\n",
       "            </tr>\n",
       "            <tr>\n",
       "                        <th id=\"T_5da824ba_20f4_11eb_82d8_80e82c8e7943level0_row22\" class=\"row_heading level0 row22\" >22</th>\n",
       "                        <td id=\"T_5da824ba_20f4_11eb_82d8_80e82c8e7943row22_col0\" class=\"data row22 col0\" >3.8</td>\n",
       "                        <td id=\"T_5da824ba_20f4_11eb_82d8_80e82c8e7943row22_col1\" class=\"data row22 col1\" >35</td>\n",
       "            </tr>\n",
       "            <tr>\n",
       "                        <th id=\"T_5da824ba_20f4_11eb_82d8_80e82c8e7943level0_row23\" class=\"row_heading level0 row23\" >23</th>\n",
       "                        <td id=\"T_5da824ba_20f4_11eb_82d8_80e82c8e7943row23_col0\" class=\"data row23 col0\" >6.9</td>\n",
       "                        <td id=\"T_5da824ba_20f4_11eb_82d8_80e82c8e7943row23_col1\" class=\"data row23 col1\" >76</td>\n",
       "            </tr>\n",
       "            <tr>\n",
       "                        <th id=\"T_5da824ba_20f4_11eb_82d8_80e82c8e7943level0_row24\" class=\"row_heading level0 row24\" >24</th>\n",
       "                        <td id=\"T_5da824ba_20f4_11eb_82d8_80e82c8e7943row24_col0\" class=\"data row24 col0\" >7.8</td>\n",
       "                        <td id=\"T_5da824ba_20f4_11eb_82d8_80e82c8e7943row24_col1\" class=\"data row24 col1\" >86</td>\n",
       "            </tr>\n",
       "    </tbody></table>"
      ],
      "text/plain": [
       "<pandas.io.formats.style.Styler at 0x19e834f38c8>"
      ]
     },
     "execution_count": 8,
     "metadata": {},
     "output_type": "execute_result"
    }
   ],
   "source": [
    "### Reading Data\n",
    "url = \"http://bit.ly/w-data\"\n",
    "df = pd.read_csv(url)\n",
    "df.style.background_gradient(cmap='coolwarm')"
   ]
  },
  {
   "cell_type": "code",
   "execution_count": 9,
   "metadata": {},
   "outputs": [
    {
     "data": {
      "text/html": [
       "<style  type=\"text/css\" >\n",
       "    #T_5dad3c9a_20f4_11eb_b13c_80e82c8e7943row0_col0 {\n",
       "            background-color:  #b40426;\n",
       "            color:  #f1f1f1;\n",
       "        }    #T_5dad3c9a_20f4_11eb_b13c_80e82c8e7943row0_col1 {\n",
       "            background-color:  #3b4cc0;\n",
       "            color:  #f1f1f1;\n",
       "        }    #T_5dad3c9a_20f4_11eb_b13c_80e82c8e7943row1_col0 {\n",
       "            background-color:  #3b4cc0;\n",
       "            color:  #f1f1f1;\n",
       "        }    #T_5dad3c9a_20f4_11eb_b13c_80e82c8e7943row1_col1 {\n",
       "            background-color:  #b40426;\n",
       "            color:  #f1f1f1;\n",
       "        }</style><table id=\"T_5dad3c9a_20f4_11eb_b13c_80e82c8e7943\" ><thead>    <tr>        <th class=\"blank level0\" ></th>        <th class=\"col_heading level0 col0\" >Hours</th>        <th class=\"col_heading level0 col1\" >Scores</th>    </tr></thead><tbody>\n",
       "                <tr>\n",
       "                        <th id=\"T_5dad3c9a_20f4_11eb_b13c_80e82c8e7943level0_row0\" class=\"row_heading level0 row0\" >Hours</th>\n",
       "                        <td id=\"T_5dad3c9a_20f4_11eb_b13c_80e82c8e7943row0_col0\" class=\"data row0 col0\" >1</td>\n",
       "                        <td id=\"T_5dad3c9a_20f4_11eb_b13c_80e82c8e7943row0_col1\" class=\"data row0 col1\" >0.976191</td>\n",
       "            </tr>\n",
       "            <tr>\n",
       "                        <th id=\"T_5dad3c9a_20f4_11eb_b13c_80e82c8e7943level0_row1\" class=\"row_heading level0 row1\" >Scores</th>\n",
       "                        <td id=\"T_5dad3c9a_20f4_11eb_b13c_80e82c8e7943row1_col0\" class=\"data row1 col0\" >0.976191</td>\n",
       "                        <td id=\"T_5dad3c9a_20f4_11eb_b13c_80e82c8e7943row1_col1\" class=\"data row1 col1\" >1</td>\n",
       "            </tr>\n",
       "    </tbody></table>"
      ],
      "text/plain": [
       "<pandas.io.formats.style.Styler at 0x19e834d8dc8>"
      ]
     },
     "execution_count": 9,
     "metadata": {},
     "output_type": "execute_result"
    }
   ],
   "source": [
    "### Finding Correlation between variables\n",
    "df.corr().style.background_gradient(cmap='coolwarm')"
   ]
  },
  {
   "cell_type": "code",
   "execution_count": 10,
   "metadata": {},
   "outputs": [
    {
     "data": {
      "text/html": [
       "<div>\n",
       "<style scoped>\n",
       "    .dataframe tbody tr th:only-of-type {\n",
       "        vertical-align: middle;\n",
       "    }\n",
       "\n",
       "    .dataframe tbody tr th {\n",
       "        vertical-align: top;\n",
       "    }\n",
       "\n",
       "    .dataframe thead th {\n",
       "        text-align: right;\n",
       "    }\n",
       "</style>\n",
       "<table border=\"1\" class=\"dataframe\">\n",
       "  <thead>\n",
       "    <tr style=\"text-align: right;\">\n",
       "      <th></th>\n",
       "      <th>Hours</th>\n",
       "      <th>Scores</th>\n",
       "    </tr>\n",
       "  </thead>\n",
       "  <tbody>\n",
       "    <tr>\n",
       "      <td>count</td>\n",
       "      <td>25.000000</td>\n",
       "      <td>25.000000</td>\n",
       "    </tr>\n",
       "    <tr>\n",
       "      <td>mean</td>\n",
       "      <td>5.012000</td>\n",
       "      <td>51.480000</td>\n",
       "    </tr>\n",
       "    <tr>\n",
       "      <td>std</td>\n",
       "      <td>2.525094</td>\n",
       "      <td>25.286887</td>\n",
       "    </tr>\n",
       "    <tr>\n",
       "      <td>min</td>\n",
       "      <td>1.100000</td>\n",
       "      <td>17.000000</td>\n",
       "    </tr>\n",
       "    <tr>\n",
       "      <td>25%</td>\n",
       "      <td>2.700000</td>\n",
       "      <td>30.000000</td>\n",
       "    </tr>\n",
       "    <tr>\n",
       "      <td>50%</td>\n",
       "      <td>4.800000</td>\n",
       "      <td>47.000000</td>\n",
       "    </tr>\n",
       "    <tr>\n",
       "      <td>75%</td>\n",
       "      <td>7.400000</td>\n",
       "      <td>75.000000</td>\n",
       "    </tr>\n",
       "    <tr>\n",
       "      <td>max</td>\n",
       "      <td>9.200000</td>\n",
       "      <td>95.000000</td>\n",
       "    </tr>\n",
       "  </tbody>\n",
       "</table>\n",
       "</div>"
      ],
      "text/plain": [
       "           Hours     Scores\n",
       "count  25.000000  25.000000\n",
       "mean    5.012000  51.480000\n",
       "std     2.525094  25.286887\n",
       "min     1.100000  17.000000\n",
       "25%     2.700000  30.000000\n",
       "50%     4.800000  47.000000\n",
       "75%     7.400000  75.000000\n",
       "max     9.200000  95.000000"
      ]
     },
     "execution_count": 10,
     "metadata": {},
     "output_type": "execute_result"
    }
   ],
   "source": [
    "### Statistical Calculations\n",
    "df.describe()"
   ]
  },
  {
   "cell_type": "code",
   "execution_count": 12,
   "metadata": {},
   "outputs": [
    {
     "data": {
      "text/plain": [
       "Text(0, 0.5, 'Percentage Score')"
      ]
     },
     "execution_count": 12,
     "metadata": {},
     "output_type": "execute_result"
    },
    {
     "data": {
      "image/png": "[encoded data removed]",
      "text/plain": [
       "<Figure size 432x288 with 1 Axes>"
      ]
     },
     "metadata": {
      "needs_background": "light"
     },
     "output_type": "display_data"
    }
   ],
   "source": [
    "### Reading X as Hours & y as Scores\n",
    "X = df.iloc[:,:-1].values  \n",
    "y = df.iloc[:, 1].values \n",
    "### Plotting Scalar Plot\n",
    "plt.scatter(X,y)\n",
    "plt.title('Hours/day vs Percentage Score')\n",
    "plt.xlabel('Number of Hours Per Day')\n",
    "plt.ylabel('Percentage Score')"
   ]
  },
  {
   "cell_type": "code",
   "execution_count": 13,
   "metadata": {},
   "outputs": [
    {
     "name": "stdout",
     "output_type": "stream",
     "text": [
      "Intercept 2.48367340537321\n",
      "Slope [9.77580339]\n"
     ]
    }
   ],
   "source": [
    "### Appling Linear Regression Model\n",
    "from sklearn import linear_model\n",
    "reg = linear_model.LinearRegression()\n",
    "reg.fit(df[['Hours']],df.Scores)\n",
    "c = reg.intercept_\n",
    "m = reg.coef_\n",
    "print('Intercept',c)\n",
    "print('Slope',m)\n",
    "# Predicting model\n",
    "y_pred=X.dot(m)+c"
   ]
  },
  {
   "cell_type": "code",
   "execution_count": 14,
   "metadata": {},
   "outputs": [],
   "source": [
    "# train & test to check predict values will be correct for further predictions or not\n",
    "from sklearn.model_selection import train_test_split\n",
    "X_train,X_test,y_train,y_test=train_test_split(X,y_pred,test_size=0.25)"
   ]
  },
  {
   "cell_type": "code",
   "execution_count": 15,
   "metadata": {},
   "outputs": [
    {
     "data": {
      "text/plain": [
       "1.0"
      ]
     },
     "execution_count": 15,
     "metadata": {},
     "output_type": "execute_result"
    }
   ],
   "source": [
    "from sklearn.linear_model import LinearRegression\n",
    "clf = LinearRegression()\n",
    "clf.fit(X_train,y_train)\n",
    "# effeciency of prediction\n",
    "clf.score(X_test,y_test)"
   ]
  },
  {
   "cell_type": "code",
   "execution_count": 16,
   "metadata": {},
   "outputs": [
    {
     "data": {
      "text/plain": [
       "Text(0.5, 1.0, 'Simple Linear Regression')"
      ]
     },
     "execution_count": 16,
     "metadata": {},
     "output_type": "execute_result"
    },
    {
     "data": {
      "image/png": "[encoded data removed]",
      "text/plain": [
       "<Figure size 432x288 with 1 Axes>"
      ]
     },
     "metadata": {
      "needs_background": "light"
     },
     "output_type": "display_data"
    }
   ],
   "source": [
    "### Plotting Linear Regression Line\n",
    "plt.scatter(X,y,color='green')\n",
    "plt.plot(X,y_pred,color='red')\n",
    "plt.title('Simple Linear Regression')\n",
    "plt.xlabel('Hours/day')\n",
    "plt.ylabel('Percentage')\n",
    "plt.title('Simple Linear Regression')"
   ]
  },
  {
   "cell_type": "markdown",
   "metadata": {},
   "source": [
    "### What will be predicted score if a student studies for 9.25 hrs/ day?"
   ]
  },
  {
   "cell_type": "code",
   "execution_count": 44,
   "metadata": {},
   "outputs": [
    {
     "data": {
      "text/plain": [
       "array([92.90985477])"
      ]
     },
     "execution_count": 44,
     "metadata": {},
     "output_type": "execute_result"
    }
   ],
   "source": [
    "a = np.array([9.25])\n",
    "a = a.reshape(-1,1)\n",
    "reg.predict(a)"
   ]
  }
 ],
 "metadata": {
  "kernelspec": {
   "display_name": "Python 3",
   "language": "python",
   "name": "python3"
  },
  "language_info": {
   "codemirror_mode": {
    "name": "ipython",
    "version": 3
   },
   "file_extension": ".py",
   "mimetype": "text/x-python",
   "name": "python",
   "nbconvert_exporter": "python",
   "pygments_lexer": "ipython3",
   "version": "3.7.4"
  }
 },
 "nbformat": 4,
 "nbformat_minor": 2
}
